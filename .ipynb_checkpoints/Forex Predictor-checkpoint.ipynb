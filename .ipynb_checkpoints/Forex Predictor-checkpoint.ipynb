{
 "cells": [
  {
   "cell_type": "markdown",
   "id": "ffbb5db4",
   "metadata": {},
   "source": [
    "## Predicting Forex Charts\n",
    "\n",
    "This algorithm works by predicting methods known as fakeouts.\n",
    "\n",
    "## What are fakeouts?\n",
    "Fakeouts are when charts are predicted to move in a certain direction but actually don't move or move in the opposite direction of the predicted movement.\n",
    "\n",
    "## How to detect fakeouts?\n",
    "We can detect fakeouts by drawing key lines on the graph; Key lines are points of the graph where the candles deviate directions."
   ]
  },
  {
   "cell_type": "code",
   "execution_count": 1,
   "id": "66bcf102",
   "metadata": {},
   "outputs": [
    {
     "ename": "ModuleNotFoundError",
     "evalue": "No module named 'pandas'",
     "output_type": "error",
     "traceback": [
      "\u001b[0;31m---------------------------------------------------------------------------\u001b[0m",
      "\u001b[0;31mModuleNotFoundError\u001b[0m                       Traceback (most recent call last)",
      "Cell \u001b[0;32mIn [1], line 1\u001b[0m\n\u001b[0;32m----> 1\u001b[0m \u001b[38;5;28;01mimport\u001b[39;00m \u001b[38;5;21;01mpandas\u001b[39;00m\n\u001b[1;32m      2\u001b[0m \u001b[38;5;28;01mimport\u001b[39;00m \u001b[38;5;21;01mnumpy\u001b[39;00m \n\u001b[1;32m      3\u001b[0m \u001b[38;5;28;01mimport\u001b[39;00m \u001b[38;5;21;01myfinance\u001b[39;00m\n",
      "\u001b[0;31mModuleNotFoundError\u001b[0m: No module named 'pandas'"
     ]
    }
   ],
   "source": [
    "import pandas\n",
    "import numpy \n",
    "import yfinance\n",
    "\n",
    "class Finance:\n",
    "    \"\"\"\n",
    "        Class used to keep track of Ticker objects and test prices\n",
    "        \n",
    "        ...\n",
    "        Attributes\n",
    "        ----------\n",
    "        ticker : Ticker Object\n",
    "            Ticker Object containing all the information about the ticker\n",
    "        data : dict\n",
    "            Dictionary containing data about ticker history\n",
    "        Methods\n",
    "        -------\n",
    "        test():\n",
    "            Used for running tests\n",
    "    \"\"\"\n",
    "    def __init__(self) -> None:\n",
    "        # Update the self data using self.__dict__.update, this sets the values from the dictionary as values inside the object\n",
    "        self.ticker = yfinance.Ticker(\"MSFT\")\n",
    "        # valid periods: 1d,5d,1mo,3mo,6mo,1y,2y,5y,10y,ytd,max\n",
    "        self.data = self.ticker.history(period=\"max\")\n",
    "\n",
    "\n",
    "    \n",
    "    def test(self):\n",
    "        # Open Price\n",
    "        open_price: list = self.data[\"Open\"].tolist()\n",
    "        close: list = self.data[\"Close\"].tolist()\n",
    "\n",
    "        counter: int = 0\n",
    "        for i in range(len(close)):\n",
    "            counter += 1\n",
    "            print(\"Open Price: \" + str(open_price[i]) + \"   \" + \"Close Price: \" + str(close[i]))\n",
    "\n",
    "        print(\"Rows: \" + str(counter))"
   ]
  },
  {
   "cell_type": "code",
   "execution_count": null,
   "id": "a1684a66-a4c9-4edf-9229-fae27a1364e1",
   "metadata": {},
   "outputs": [],
   "source": []
  }
 ],
 "metadata": {
  "kernelspec": {
   "display_name": "Python 3 (ipykernel)",
   "language": "python",
   "name": "python3"
  },
  "language_info": {
   "codemirror_mode": {
    "name": "ipython",
    "version": 3
   },
   "file_extension": ".py",
   "mimetype": "text/x-python",
   "name": "python",
   "nbconvert_exporter": "python",
   "pygments_lexer": "ipython3",
   "version": "3.10.6"
  }
 },
 "nbformat": 4,
 "nbformat_minor": 5
}
